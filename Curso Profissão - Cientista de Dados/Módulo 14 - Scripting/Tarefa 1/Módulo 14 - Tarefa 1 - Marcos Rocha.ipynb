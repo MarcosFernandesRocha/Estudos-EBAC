{
 "cells": [
  {
   "cell_type": "markdown",
   "id": "30615bc5-b711-4b7f-bde0-3f6f9e225a41",
   "metadata": {},
   "source": [
    "Módulo 14 – Tarefa 1\n",
    "Profissão Cientista de Dados\n",
    "Tarefa\n",
    "\n",
    "• Crie um jupyter notebook com os imports necessários e um código para gerar os \n",
    "gráficos referentes a base de dados de março, abril, maio, junho e dezembro \n",
    "(numa célula só ou em várias).\n",
    "\n",
    "• Como que você poderia fazer para deixar isso mais automatizado? Descreva na \n",
    "última célula do jupyter notebook o que ajudaria na hora de gerar novos gráficos \n",
    "pros meses/anos seguintes."
   ]
  },
  {
   "cell_type": "code",
   "execution_count": 2,
   "id": "8b86c621-c654-477f-b3c2-e6ad40a4200d",
   "metadata": {},
   "outputs": [
    {
     "name": "stdout",
     "output_type": "stream",
     "text": [
      "Data inicial: 2019-01-01 Data final: 2019-03-31\n",
      "Nome da pasta: 2019-03 \n",
      "\n",
      "Data inicial: 2019-01-01 Data final: 2019-04-30\n",
      "Nome da pasta: 2019-04 \n",
      "\n",
      "Data inicial: 2019-01-01 Data final: 2019-05-31\n",
      "Nome da pasta: 2019-05 \n",
      "\n",
      "Data inicial: 2019-01-01 Data final: 2019-06-30\n",
      "Nome da pasta: 2019-06 \n",
      "\n",
      "Data inicial: 2019-01-01 Data final: 2019-12-31\n",
      "Nome da pasta: 2019-12 \n",
      "\n"
     ]
    }
   ],
   "source": [
    "import pandas as pd\n",
    "import matplotlib.pyplot as plt\n",
    "import seaborn as sns\n",
    "\n",
    "import os\n",
    "\n",
    "sns.set_theme()\n",
    "\n",
    "def plot_pivot_table(df: pd.DataFrame, value: str, index: str, func: str, ylabel: str, xlabel: str, opcao: str='nada'\n",
    "                    ) -> None:\n",
    "    if opcao == 'nada':\n",
    "        pd.pivot_table(data=df, values=value, index=index, aggfunc=func).plot(figsize=[15, 5])\n",
    "    elif opcao == 'sort':\n",
    "        pd.pivot_table(data=df, values=value, index=index,aggfunc=func).sort_values(value).plot(figsize=[15, 5])\n",
    "    elif opcao == 'unstack':\n",
    "        pd.pivot_table(data=df,values=value,index=index,aggfunc=func).unstack().plot(figsize=[15, 5])\n",
    "    plt.ylabel(ylabel)\n",
    "    plt.xlabel(xlabel)\n",
    "    return None\n",
    "\n",
    "meses = ['MAR', 'ABR', 'MAI', 'JUN', 'DEZ']\n",
    "\n",
    "for mes in meses:\n",
    "    sinasc = pd.read_csv('./input/SINASC_RO_2019_'+mes+'.csv')\n",
    "\n",
    "    max_data = sinasc.DTNASC.max()[:7]\n",
    "    os.makedirs('./output/figs/'+max_data, exist_ok=True)\n",
    "\n",
    "    plot_pivot_table(df=sinasc, value='IDADEMAE', index='DTNASC', func='count', ylabel='Quantidade de nascimentos', xlabel='Data de nascimento')\n",
    "    plt.savefig('./output/figs/'+max_data+'/Quantidade de nascimentos.png')\n",
    "    plt.close()\n",
    "\n",
    "    plot_pivot_table(df=sinasc, value='IDADEMAE', index=['DTNASC', 'SEXO'], func='mean', ylabel='Média da idade das mães', xlabel='Data de nascimento', \n",
    "                     opcao='unstack')\n",
    "    plt.savefig('./output/figs/'+max_data+'/Média da idade das mães por sexo.png')\n",
    "    plt.close()\n",
    "\n",
    "    plot_pivot_table(df=sinasc, value='PESO', index=['DTNASC', 'SEXO'], func='mean', ylabel='Média do peso dos bebês', xlabel='Data de nascimento',\n",
    "                     opcao='unstack')\n",
    "    plt.savefig('./output/figs/'+max_data+'/Média do peso dos bebês por sexo.png')\n",
    "    plt.close()\n",
    "\n",
    "    plot_pivot_table(df=sinasc, value='APGAR1', index='ESCMAE', func='median', ylabel='Mediana do APGAR1', xlabel='Escolaridade',\n",
    "                     opcao='sort')\n",
    "    plt.savefig('./output/figs/'+max_data+'/Mediana do APGAR1 por escolaridade das mães.png')\n",
    "    plt.close()\n",
    "\n",
    "    plot_pivot_table(df=sinasc, value='APGAR1', index='GESTACAO', func='mean', ylabel='Média do APGAR1', xlabel='Gestação',opcao='sort')\n",
    "    plt.savefig('./output/figs/'+max_data+'/Média do APGAR1 por gestação.png')\n",
    "    plt.close()\n",
    "\n",
    "    plot_pivot_table(df=sinasc, value='APGAR5', index='GESTACAO', func='mean', ylabel='Média do APGAR5', xlabel='Gestação', opcao='sort')\n",
    "    plt.savefig('./output/figs/'+max_data+'/Média do APGAR5 por gestação.png')\n",
    "    plt.close()\n",
    "    \n",
    "    print('Data inicial:', sinasc.DTNASC.min(), \n",
    "          'Data final:', sinasc.DTNASC.max())\n",
    "    print('Nome da pasta:', max_data, '\\n')\n",
    "    "
   ]
  },
  {
   "cell_type": "code",
   "execution_count": null,
   "id": "f0041236-77d3-41dd-9f7b-b4d55e4cd4b9",
   "metadata": {},
   "outputs": [],
   "source": []
  },
  {
   "cell_type": "code",
   "execution_count": null,
   "id": "04df51a9-6223-43b7-ae1d-8afcb6938865",
   "metadata": {},
   "outputs": [],
   "source": []
  },
  {
   "cell_type": "code",
   "execution_count": null,
   "id": "0ececb54-d698-4e4a-b5c3-3f6d0bc42506",
   "metadata": {},
   "outputs": [],
   "source": []
  }
 ],
 "metadata": {
  "kernelspec": {
   "display_name": "Python 3 (ipykernel)",
   "language": "python",
   "name": "python3"
  },
  "language_info": {
   "codemirror_mode": {
    "name": "ipython",
    "version": 3
   },
   "file_extension": ".py",
   "mimetype": "text/x-python",
   "name": "python",
   "nbconvert_exporter": "python",
   "pygments_lexer": "ipython3",
   "version": "3.11.7"
  }
 },
 "nbformat": 4,
 "nbformat_minor": 5
}
