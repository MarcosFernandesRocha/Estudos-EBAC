{
 "cells": [
  {
   "cell_type": "markdown",
   "id": "4900be7d-bad7-48af-aa1d-93abb1e7525b",
   "metadata": {},
   "source": [
    "## Tarefa Módulo 20 - Marcos Rocha"
   ]
  },
  {
   "cell_type": "markdown",
   "id": "8bfc28cc-ffd2-4be1-a732-a0aac0870cd8",
   "metadata": {},
   "source": [
    "<div style=\"font-family: 'Nunito',Helvetica,Arial,sans-serif; font-size:16px\">\n",
    "    <h2 style=\"color:#2e5574\">Fórmula de Bhaskara</h2>\n",
    "    <p>A solução para uma função de segundo grau depende das suas raízes (valores de x). Como já vimos, os coeficientes precisam ser números reais e o angular diferente de zero. Sendo assim, temos a seguinte fórmula de Bhaskara:</p>\n",
    "    <br>\n",
    "    $$\n",
    "    \\huge x = \\dfrac{-b \\pm \\sqrt{b^2 -4.a.c}}{2.a}\n",
    "    $$\n",
    "    <br>\n",
    "    <p style=\"text-align:center\"><i>Fórmula de Bhaskara.</i></p>\n",
    "    <p>Para melhor compreensão o seu cálculo é dividido em duas partes: discriminante da equação e operações para determinar as raízes.</p>\n",
    "    <p><b>Discriminante</b></p>\n",
    "    <p>A figura dentro da raiz na fórmula de Bhaskara é nomeada de discriminante. Seu símbolo é a letra grega delta e apresenta a determinada fórmula:</p>\n",
    "    <br>  \n",
    "    $$\n",
    "    \\Huge \\Delta = b^2 -4.a.c\n",
    "    $$\n",
    "    <br>\n",
    "    <p style=\"text-align:center\"><i>Fórmula da discriminante.</i></p>\n",
    "\n",
    "- Se o delta for maior que zero, a equação terá dois valores reais e distintos.\n",
    "- Se o delta for igual a zero, a equação terá somente um valor real ou dois resultados iguais.\n",
    "- Se o delta for menor que zero, a equação não possuirá valores reais.\n",
    "    \n",
    "</div>"
   ]
  },
  {
   "cell_type": "code",
   "execution_count": null,
   "id": "e9342ba3-ef20-489f-a4f1-8e18b2bf88a5",
   "metadata": {},
   "outputs": [],
   "source": []
  },
  {
   "cell_type": "code",
   "execution_count": null,
   "id": "cdc3a363-4c1e-4db1-bbed-98b9970001c7",
   "metadata": {},
   "outputs": [],
   "source": []
  }
 ],
 "metadata": {
  "kernelspec": {
   "display_name": "Python 3 (ipykernel)",
   "language": "python",
   "name": "python3"
  },
  "language_info": {
   "codemirror_mode": {
    "name": "ipython",
    "version": 3
   },
   "file_extension": ".py",
   "mimetype": "text/x-python",
   "name": "python",
   "nbconvert_exporter": "python",
   "pygments_lexer": "ipython3",
   "version": "3.11.7"
  }
 },
 "nbformat": 4,
 "nbformat_minor": 5
}
